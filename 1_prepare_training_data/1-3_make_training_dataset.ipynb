{
 "cells": [
  {
   "cell_type": "code",
   "execution_count": null,
   "id": "3c1d2c37",
   "metadata": {},
   "outputs": [],
   "source": [
    "import re\n",
    "import sys\n",
    "import git\n",
    "import uuid\n",
    "import jellyfish\n",
    "import pandas as pd\n",
    "import numpy as np\n",
    "from pathlib import Path \n",
    "from scipy.special import softmax\n",
    "from tqdm.notebook import trange"
   ]
  },
  {
   "cell_type": "code",
   "execution_count": null,
   "id": "867c732e",
   "metadata": {},
   "outputs": [],
   "source": [
    "# git for functions loading and work path finding\n",
    "import git\n",
    "repo = git.Repo('.', search_parent_directories=True)\n",
    "work_path = Path(repo.working_tree_dir)\n",
    "if str(work_path) not in sys.path:\n",
    "    sys.path.append(str(work_path))"
   ]
  },
  {
   "cell_type": "code",
   "execution_count": null,
   "id": "d7e0adf3",
   "metadata": {},
   "outputs": [],
   "source": [
    "from function.seqfilter import SeqFilter\n",
    "from function.utilities import fasta_to_seqlist\n",
    "from function.utilities import get_fasta_filename"
   ]
  },
  {
   "cell_type": "code",
   "execution_count": null,
   "id": "d92131da",
   "metadata": {},
   "outputs": [],
   "source": [
    "def get_homology_frag(fasta_path):\n",
    "    '''\n",
    "    TODO: 跟老師的part依樣part就好\n",
    "    '''\n",
    "    \n",
    "    # get oma_group_id and all homologs \n",
    "    fasta_path = Path(fasta_path)\n",
    "    oma_group_id = get_fasta_filename(fasta_path)\n",
    "    seq_list = fasta_to_seqlist(fasta_path)\n",
    "\n",
    "    # filter sequence length and add the gap to od_ident\n",
    "    od_ident = pondr_df[pondr_df['oma_group_id'] == oma_group_id]['od_ident'].tolist()[0]\n",
    "    od_ident = seqfilter.length_filter_by_od_ident(od_ident,disorder_filter_length,order_filter_length)\n",
    "    od_ident = seqfilter.od_add_alignment(fasta_path,od_ident)   \n",
    "    od_index = seqfilter.get_od_index(od_ident)['disorder_region']\n",
    "    \n",
    "    # create id for sub-homologs\n",
    "    homo_frag_seq_id = []\n",
    "    for i in od_index:\n",
    "        homo_frag_seq_id.append(uuid.uuid4().hex)\n",
    "\n",
    "    # process for getting \n",
    "    seq_frag_list = []\n",
    "    \n",
    "    # loop for a homolog containig many species sequences from a fasta file\n",
    "    for seq in seq_list: \n",
    "        \n",
    "        # loop for sub-homologs referenced by the gap added od_ident\n",
    "        for index,element in enumerate(od_index):\n",
    "            start = element['start']\n",
    "            end = element['end']\n",
    "        \n",
    "            # get some infos\n",
    "            oma_protein_id = seq.id\n",
    "            homology_id = homo_frag_seq_id[index]\n",
    "            frag_seq_id = uuid.uuid4().hex \n",
    "\n",
    "            # get frag sequence by index from od_ident\n",
    "            frag_seq = str(seq.seq)[start:end]\n",
    "            \n",
    "            # remove seqeunce's gap, sequence length is shorter than disorder_filter_length will not be added to our dataset\n",
    "            frag_seq = frag_seq.replace(\"-\",\"\") \n",
    "            if len(frag_seq) < disorder_filter_length:\n",
    "                continue\n",
    "             \n",
    "            # remove amino acid \"M\" if at the start of the sequence\n",
    "            if frag_seq[0] == \"M\" and start == 0: \n",
    "                frag_seq = frag_seq[1:]\n",
    "                  \n",
    "            # mark human sequence for calculating sample probability later\n",
    "            human_seq_match = re.match('^HUMAN*', oma_protein_id)\n",
    "            if human_seq_match:\n",
    "                is_human_seq = 1\n",
    "            else:\n",
    "                is_human_seq = 0\n",
    "                \n",
    "            # misc\n",
    "            seq_frag_list.append({\"oma_group_id\":oma_group_id,\n",
    "                                  \"oma_protein_id\":oma_protein_id,\n",
    "                                  \"homology_id\":homology_id,\n",
    "                                  \"frag_seq_id\":frag_seq_id,\n",
    "                                  \"frag_seq_len\":len(frag_seq),\n",
    "                                  \"frag_seq\":frag_seq,\n",
    "                                  \"is_human_seq\":is_human_seq,\n",
    "                                 })\n",
    "            \n",
    "    return pd.DataFrame(seq_frag_list)"
   ]
  },
  {
   "cell_type": "code",
   "execution_count": null,
   "id": "8ded5985",
   "metadata": {},
   "outputs": [],
   "source": [
    "seqfilter = SeqFilter()\n",
    "disorder_filter_length = 40 \n",
    "order_filter_length = 10\n",
    "\n",
    "# read sequence alignment fasta path (d_alignment)\n",
    "fasta_path = work_path / \"1_prepare_training_data\" / \"oma_all\" / \"d_alignment\" / \"7711_alied\"\n",
    "fasta_path_list = list(fasta_path.rglob(\"*.fasta\"))\n",
    "\n",
    "# read pondr identified order/disorder info\n",
    "pondr_df = pd.read_pickle(work_path / \"1_prepare_training_data\" / \"1-2_human_pondr_vsl2.pkl\") "
   ]
  },
  {
   "cell_type": "code",
   "execution_count": null,
   "id": "fc0fd1ba",
   "metadata": {},
   "outputs": [],
   "source": [
    "# make whole dataset by looping alignment fasta files\n",
    "df = pd.DataFrame()\n",
    "t = trange(len(fasta_path_list), desc='', leave=True, position=0)\n",
    "failed_list = []\n",
    "for i in t:\n",
    "    oma_id = get_fasta_filename(fasta_path_list[i])\n",
    "        \n",
    "    df = pd.concat([df,\n",
    "                    get_homology_frag(fasta_path_list[i])],ignore_index=True)"
   ]
  },
  {
   "cell_type": "code",
   "execution_count": null,
   "id": "e4a55a1a",
   "metadata": {},
   "outputs": [],
   "source": [
    "# get q_prob for sampling probaility during training\n",
    "human_df = df[df[\"oma_protein_id\"].str.match(r'^HUMAN*')==True].reset_index(drop=True) \n",
    "def get_sim_to_human_seq(x):\n",
    "    human_seq = human_df[human_df['homology_id'] == x['homology_id']]['frag_seq'].tolist()[0]\n",
    "    sim_score = jellyfish.levenshtein_distance(human_seq, x['frag_seq'])\n",
    "    return sim_score\n",
    "df['q_prob_score'] = df.apply(get_sim_to_human_seq, axis=1)\n",
    "df['q_prob_pure'] = df.groupby('homology_id')[\"q_prob_score\"].transform(lambda x : x/sum(x))"
   ]
  },
  {
   "cell_type": "code",
   "execution_count": null,
   "id": "3dd1d3d5",
   "metadata": {},
   "outputs": [],
   "source": [
    "# deprecated\n",
    "# df[\"q_prob_softmax\"] = df.groupby('homology_id')[\"q_prob_score\"].transform(softmax) \n",
    "# deprecated, get k_prob, \n",
    "# homologs_group_counts =  df.groupby('homology_id')['homology_id'].transform('count').values\n",
    "# homologs_group_nums = df['homology_id'].unique().shape[0] \n",
    "# df['k_prob'] = (1/homologs_group_nums)/homologs_group_counts "
   ]
  },
  {
   "cell_type": "code",
   "execution_count": null,
   "id": "8833919b",
   "metadata": {},
   "outputs": [],
   "source": [
    "# save to pickle\n",
    "# df.to_pickle(work_path / \"1_prepare_training_data\" / \"1-3_vsl2_omaseq_with_prob.pkl\")"
   ]
  }
 ],
 "metadata": {
  "kernelspec": {
   "display_name": "Python 3 (ipykernel)",
   "language": "python",
   "name": "python3"
  },
  "language_info": {
   "codemirror_mode": {
    "name": "ipython",
    "version": 3
   },
   "file_extension": ".py",
   "mimetype": "text/x-python",
   "name": "python",
   "nbconvert_exporter": "python",
   "pygments_lexer": "ipython3",
   "version": "3.10.4"
  },
  "varInspector": {
   "cols": {
    "lenName": 16,
    "lenType": 16,
    "lenVar": 40
   },
   "kernels_config": {
    "python": {
     "delete_cmd_postfix": "",
     "delete_cmd_prefix": "del ",
     "library": "var_list.py",
     "varRefreshCmd": "print(var_dic_list())"
    },
    "r": {
     "delete_cmd_postfix": ") ",
     "delete_cmd_prefix": "rm(",
     "library": "var_list.r",
     "varRefreshCmd": "cat(var_dic_list()) "
    }
   },
   "types_to_exclude": [
    "module",
    "function",
    "builtin_function_or_method",
    "instance",
    "_Feature"
   ],
   "window_display": false
  }
 },
 "nbformat": 4,
 "nbformat_minor": 5
}
