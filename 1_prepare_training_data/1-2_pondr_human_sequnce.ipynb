{
 "cells": [
  {
   "cell_type": "code",
   "execution_count": null,
   "id": "5183b43b",
   "metadata": {},
   "outputs": [],
   "source": [
    "import os\n",
    "import sys\n",
    "import pickle\n",
    "import requests\n",
    "import numpy as np\n",
    "import pandas as pd\n",
    "from pathlib import Path \n",
    "from tqdm.notebook import trange\n",
    "from tqdm.notebook import tqdm"
   ]
  },
  {
   "cell_type": "code",
   "execution_count": null,
   "id": "943866a1",
   "metadata": {},
   "outputs": [],
   "source": [
    "# git for functions loading and work path finding\n",
    "import git\n",
    "\n",
    "repo = git.Repo('.', search_parent_directories=True)\n",
    "work_path = Path(repo.working_tree_dir)\n",
    "if str(work_path) not in sys.path:\n",
    "    sys.path.append(str(work_path))"
   ]
  },
  {
   "cell_type": "code",
   "execution_count": null,
   "id": "9feee97e",
   "metadata": {},
   "outputs": [],
   "source": [
    "from function.utilities import find_human_sequence\n",
    "from function.utilities import get_fasta_filename\n",
    "from function.cutpondr import CutPONDR"
   ]
  },
  {
   "cell_type": "markdown",
   "id": "9fcf5bb8",
   "metadata": {},
   "source": [
    "# Get human sequence from downloaded OMA fasta"
   ]
  },
  {
   "cell_type": "code",
   "execution_count": null,
   "id": "ad0ad9e4",
   "metadata": {},
   "outputs": [],
   "source": [
    "# please specify the path to processed fasta files to extract human sequnece from homologs (b_seqaa_checked)\n",
    "b_seqaa_checked_path = work_path / \"1_prepare_training_data\" / \"oma_all\" / \"b_seqaa_checked\""
   ]
  },
  {
   "cell_type": "code",
   "execution_count": null,
   "id": "406e82c8",
   "metadata": {},
   "outputs": [],
   "source": [
    "human_protein_df = pd.DataFrame(columns=['oma_group_id','protein_sequence'])\n",
    "\n",
    "fasta_pathlist = list(Path(b_seqaa_checked_path).rglob(\"*.fasta\"))\n",
    "t = trange(len(fasta_pathlist), leave=True)\n",
    "for i in t:\n",
    "    \n",
    "    # get fasta filename\n",
    "    file_name = get_fasta_filename(fasta_pathlist[i])\n",
    "    t.set_description(file_name)\n",
    "    t.refresh()\n",
    "    \n",
    "    # get human sequence\n",
    "    human_sequence_info = find_human_sequence(fasta_pathlist[i])\n",
    "    oma_group_id = human_sequence_info['oma_group_id']\n",
    "    sequence = human_sequence_info['sequence']\n",
    " \n",
    "    # append to df\n",
    "    human_protein_df = pd.concat([human_protein_df,\n",
    "                                  pd.DataFrame([{\"oma_group_id\":oma_group_id,\"protein_sequence\":sequence}])],\n",
    "                                 ignore_index=True)"
   ]
  },
  {
   "cell_type": "code",
   "execution_count": null,
   "id": "5841abff",
   "metadata": {},
   "outputs": [],
   "source": [
    "# save to pickle\n",
    "# human_protein_df.to_pickle(work_path / \"1_prepare_training_data\" / \"1-2_human_from_oma.pkl\")"
   ]
  },
  {
   "cell_type": "markdown",
   "id": "3cab67af",
   "metadata": {},
   "source": [
    "# PONDR disorder identification"
   ]
  },
  {
   "cell_type": "code",
   "execution_count": null,
   "id": "230b2837",
   "metadata": {},
   "outputs": [],
   "source": [
    "def pondr_disorder(algorithm, delete=False):\n",
    "    \"\"\"\n",
    "    cutpondr: CutPONDR object\n",
    "    input_df: human_df for identify disorder/order sequences\n",
    "    algorithm : (‘VLXT’, ‘XL1_XT’, ‘CAN_XT’, ‘VL3-BA’, 'VSL2'), default ‘VLXT’, pondr algorithm for use\n",
    "    \"\"\"\n",
    "    \n",
    "    global cutpondr, input_df, output_df\n",
    "    \n",
    "    t = trange(len(input_df), desc=\" \", leave=True)\n",
    "    for i in t:\n",
    "        oma_group_id = input_df.loc[i][\"oma_group_id\"]\n",
    "        protein_sequence = input_df.loc[i][\"protein_sequence\"]\n",
    "\n",
    "        t.set_description(oma_group_id)\n",
    "        t.refresh()\n",
    "\n",
    "        cutpondr.cut(sequence=protein_sequence, protein_name=\"aa\", algorithm=algorithm)\n",
    "        order_sequence = cutpondr.get_order_sequence()\n",
    "        disorder_sequence = cutpondr.get_disorder_sequence()\n",
    "        od_ident = cutpondr.get_od_ident()\n",
    "        \n",
    "        output_df = pd.concat([output_df,\n",
    "                               pd.DataFrame([{\"oma_group_id\": oma_group_id,\n",
    "                                              \"protein_sequence\": protein_sequence,\n",
    "                                              \"order_sequence\": order_sequence,\n",
    "                                              \"disorder_sequence\": disorder_sequence,\n",
    "                                              \"od_ident\": od_ident\n",
    "                                             }])\n",
    "                              ],ignore_index=True)\n",
    "        \n",
    "        if delete:\n",
    "            input_df.drop(i, inplace=True)"
   ]
  },
  {
   "cell_type": "code",
   "execution_count": null,
   "id": "c9ef4551",
   "metadata": {},
   "outputs": [],
   "source": [
    "# choose PONDR algorithm\n",
    "algorithm = \"VSL2\" \n",
    "\n",
    "# input_df: human sequences from OMA downloaded fasta\n",
    "input_df = pd.read_pickle(work_path / \"1_prepare_training_data\" / \"1-2_human_from_oma.pkl\")\n",
    "\n",
    "# output df: save PONDR's output\n",
    "output_df = pd.DataFrame(columns=[\"oma_group_id\", \"protein_sequence\", \"order_sequence\", \"disorder_sequence\", \"od_ident\"])"
   ]
  },
  {
   "cell_type": "code",
   "execution_count": null,
   "id": "1682bbba",
   "metadata": {},
   "outputs": [],
   "source": [
    "cutpondr = CutPONDR(show_progress_window=False)\n",
    "failed_human_list = pondr_disorder(algorithm=algorithm, delete=False)\n",
    "cutpondr.close()"
   ]
  },
  {
   "cell_type": "code",
   "execution_count": null,
   "id": "9f466c66",
   "metadata": {},
   "outputs": [],
   "source": [
    "# output_df.to_pickle(work_path / \"1_prepare_training_data\" / \"1-2_human_pondr_vsl2.pkl\")"
   ]
  }
 ],
 "metadata": {
  "kernelspec": {
   "display_name": "Python 3 (ipykernel)",
   "language": "python",
   "name": "python3"
  },
  "language_info": {
   "codemirror_mode": {
    "name": "ipython",
    "version": 3
   },
   "file_extension": ".py",
   "mimetype": "text/x-python",
   "name": "python",
   "nbconvert_exporter": "python",
   "pygments_lexer": "ipython3",
   "version": "3.9.6"
  },
  "varInspector": {
   "cols": {
    "lenName": 16,
    "lenType": 16,
    "lenVar": 40
   },
   "kernels_config": {
    "python": {
     "delete_cmd_postfix": "",
     "delete_cmd_prefix": "del ",
     "library": "var_list.py",
     "varRefreshCmd": "print(var_dic_list())"
    },
    "r": {
     "delete_cmd_postfix": ") ",
     "delete_cmd_prefix": "rm(",
     "library": "var_list.r",
     "varRefreshCmd": "cat(var_dic_list()) "
    }
   },
   "types_to_exclude": [
    "module",
    "function",
    "builtin_function_or_method",
    "instance",
    "_Feature"
   ],
   "window_display": false
  },
  "vscode": {
   "interpreter": {
    "hash": "b6dfe8f0c7e87122b08cb88624068d6397f445987aab58be788fe806692d19b4"
   }
  }
 },
 "nbformat": 4,
 "nbformat_minor": 5
}
