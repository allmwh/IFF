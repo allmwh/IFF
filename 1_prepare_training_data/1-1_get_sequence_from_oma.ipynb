{
 "cells": [
  {
   "cell_type": "code",
   "execution_count": null,
   "id": "6af4df5b",
   "metadata": {},
   "outputs": [],
   "source": [
    "import os\n",
    "import sys\n",
    "import pickle\n",
    "import requests\n",
    "import numpy as np\n",
    "import pandas as pd\n",
    "from pathlib import Path\n",
    "from tqdm.notebook import trange\n",
    "from tqdm.notebook import tqdm"
   ]
  },
  {
   "cell_type": "code",
   "execution_count": null,
   "id": "963aaaf1",
   "metadata": {},
   "outputs": [],
   "source": [
    "# git for functions loading and work path finding\n",
    "import git\n",
    "\n",
    "repo = git.Repo('.', search_parent_directories=True)\n",
    "work_path = Path(repo.working_tree_dir)\n",
    "if str(work_path) not in sys.path:\n",
    "    sys.path.append(str(work_path))"
   ]
  },
  {
   "cell_type": "code",
   "execution_count": null,
   "id": "4c382533",
   "metadata": {},
   "outputs": [],
   "source": [
    "from function.omaseq import FetchOmaSeqBatch\n",
    "from function.omaseq import TaxSeqFilter\n",
    "from function.utilities import fasta_seq_aa_check\n",
    "from function.utilities import get_fasta_filename\n",
    "from function.alignment import Alignment"
   ]
  },
  {
   "cell_type": "code",
   "execution_count": null,
   "id": "0f944498",
   "metadata": {},
   "outputs": [],
   "source": [
    "# please specify the path for saving fsta files\n",
    "oma_path = work_path / \"1_prepare_training_data\" / \"oma_all\"\n",
    "\n",
    "# path for downloaded fasta from OMA\n",
    "a_oma_path = oma_path / \"a_oma\"\n",
    "\n",
    "# path for checked 20 amino acid chars\n",
    "b_seqaa_checked_path = oma_path / \"b_seqaa_checked\"\n",
    "\n",
    "# path for grouped homologs by taxonomy id\n",
    "c_grouped_path = oma_path / \"c_grouped\"\n",
    "\n",
    "# path for sequence alignment fasta\n",
    "d_alignment_path = oma_path / \"d_alignment\""
   ]
  },
  {
   "cell_type": "markdown",
   "id": "eb336fd9",
   "metadata": {},
   "source": [
    "# a_oma: get human protein homologs (19909 in total) from OMA"
   ]
  },
  {
   "cell_type": "code",
   "execution_count": null,
   "id": "b50ee5cf",
   "metadata": {},
   "outputs": [],
   "source": [
    "# get human OMA Groups, and save to 1-1_oma_group_ids.pkl\n",
    "\n",
    "from omadb import Client\n",
    "\n",
    "# c = Client()\n",
    "# human_genome = c.genomes.proteins('HUMAN',progress=True)\n",
    "# human_genome = human_genome.as_dataframe()\n",
    "\n",
    "# oma_group_ids = human_genome['oma_group'].unique().tolist()\n",
    "# oma_group_ids.remove(0)\n",
    "\n",
    "# with open(str(work_path / \"1_prepare_training_data\" / \"1-1_oma_group_ids.pkl\"), 'wb') as f:\n",
    "#     pickle.dump(oma_group_ids, f)"
   ]
  },
  {
   "cell_type": "code",
   "execution_count": null,
   "id": "2f42ff96",
   "metadata": {},
   "outputs": [],
   "source": [
    "# load oma group id\n",
    "with open(str(work_path / \"1_prepare_training_data\" / \"1-1_oma_group_ids.pkl\"), 'rb') as f:\n",
    "    oma_group_ids = pickle.load(f)"
   ]
  },
  {
   "cell_type": "code",
   "execution_count": null,
   "id": "6e4318cf",
   "metadata": {},
   "outputs": [],
   "source": [
    "fetchomaseq = FetchOmaSeqBatch()\n",
    "failed_list = []\n",
    "\n",
    "# get all homologs by OMA group ID, and save to fasta\n",
    "t = trange(len(oma_group_ids), leave=True)\n",
    "for i in t:\n",
    "    t.set_description(str(oma_group_ids[i]))\n",
    "    t.refresh()\n",
    "    try:\n",
    "        fetchomaseq.get_oma_seq(oma_group_ids[i], a_oma_path)\n",
    "    except:\n",
    "        print(\"{} failed\".format(oma_group_ids[i]))\n",
    "        failed_list.append(oma_group_ids[i])"
   ]
  },
  {
   "cell_type": "markdown",
   "id": "06ed1be3",
   "metadata": {},
   "source": [
    "# b_oma_seqaa_checked: check if all sequences are valid 20 aa chars"
   ]
  },
  {
   "cell_type": "code",
   "execution_count": null,
   "id": "ed3758d1",
   "metadata": {},
   "outputs": [],
   "source": [
    "fasta_pathlist = list(Path(oma_path).rglob(\"*.fasta\"))\n",
    "\n",
    "t = trange(len(fasta_pathlist), leave=True)\n",
    "for i in t:\n",
    "    file_name = get_fasta_filename(fasta_pathlist[i])\n",
    "\n",
    "    t.set_description(file_name)\n",
    "    t.refresh()\n",
    "\n",
    "    fasta_path = fasta_pathlist[i]\n",
    "    checked_fasta_path = b_seqaa_checked_path / \"{}.fasta\".format(file_name)\n",
    "\n",
    "    fasta_seq_aa_check(fasta_path, checked_fasta_path)"
   ]
  },
  {
   "cell_type": "markdown",
   "id": "5a71702a",
   "metadata": {},
   "source": [
    "# c_grouped: filter seqeunces to new fasta by tax id"
   ]
  },
  {
   "cell_type": "code",
   "execution_count": null,
   "id": "e2eaee02",
   "metadata": {},
   "outputs": [],
   "source": [
    "tax_id = 7711  # taxonomy Chordata, ref: https://www.ncbi.nlm.nih.gov/Taxonomy/Browser/wwwtax.cgi?"
   ]
  },
  {
   "cell_type": "code",
   "execution_count": null,
   "id": "271b93a8",
   "metadata": {},
   "outputs": [],
   "source": [
    "fasta_pathlist = list(Path(b_seqaa_checked_path).rglob(\"*.fasta\"))\n",
    "taxfilter = TaxSeqFilter(tax_id)\n",
    "\n",
    "t = trange(len(fasta_pathlist), leave=True)\n",
    "for i in t:\n",
    "    oma_fasta_path = fasta_pathlist[i]\n",
    "    file_name = get_fasta_filename(oma_fasta_path)\n",
    "\n",
    "    t.set_description(file_name)\n",
    "    t.refresh()\n",
    "\n",
    "    c_grouped_tax_path = c_grouped_path / str(tax_id)\n",
    "    c_grouped_tax_path.mkdir(exist_ok=True)\n",
    "    grouped_fasta_path = c_grouped_tax_path / \"{}.fasta\".format(file_name)\n",
    "\n",
    "    taxfilter.taxfilter(oma_fasta_path, grouped_fasta_path)"
   ]
  },
  {
   "cell_type": "markdown",
   "id": "d7e738dd",
   "metadata": {},
   "source": [
    "# d_alignment: sequence alignment"
   ]
  },
  {
   "cell_type": "code",
   "execution_count": null,
   "id": "be26583a",
   "metadata": {},
   "outputs": [],
   "source": [
    "alignment = Alignment()"
   ]
  },
  {
   "cell_type": "code",
   "execution_count": null,
   "id": "594144e6",
   "metadata": {},
   "outputs": [],
   "source": [
    "tax_id = 7711\n",
    "\n",
    "c_grouped_path_tax = c_grouped_path / str(tax_id)\n",
    "d_alignment_path_tax = d_alignment_path / \"{}_alied\".format(str(tax_id))\n",
    "\n",
    "failed_list = alignment.alignment_path(c_grouped_path_tax, d_alignment_path_tax, delete=False)"
   ]
  }
 ],
 "metadata": {
  "kernelspec": {
   "display_name": "Python 3 (ipykernel)",
   "language": "python",
   "name": "python3"
  },
  "language_info": {
   "codemirror_mode": {
    "name": "ipython",
    "version": 3
   },
   "file_extension": ".py",
   "mimetype": "text/x-python",
   "name": "python",
   "nbconvert_exporter": "python",
   "pygments_lexer": "ipython3",
   "version": "3.9.6"
  },
  "varInspector": {
   "cols": {
    "lenName": 16,
    "lenType": 16,
    "lenVar": 40
   },
   "kernels_config": {
    "python": {
     "delete_cmd_postfix": "",
     "delete_cmd_prefix": "del ",
     "library": "var_list.py",
     "varRefreshCmd": "print(var_dic_list())"
    },
    "r": {
     "delete_cmd_postfix": ") ",
     "delete_cmd_prefix": "rm(",
     "library": "var_list.r",
     "varRefreshCmd": "cat(var_dic_list()) "
    }
   },
   "types_to_exclude": [
    "module",
    "function",
    "builtin_function_or_method",
    "instance",
    "_Feature"
   ],
   "window_display": false
  },
  "vscode": {
   "interpreter": {
    "hash": "b6dfe8f0c7e87122b08cb88624068d6397f445987aab58be788fe806692d19b4"
   }
  }
 },
 "nbformat": 4,
 "nbformat_minor": 5
}
