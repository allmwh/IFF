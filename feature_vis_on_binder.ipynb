{
 "cells": [
  {
   "cell_type": "code",
   "execution_count": null,
   "id": "b86d42d0",
   "metadata": {},
   "outputs": [],
   "source": [
    "# plot trained features for sequences, detailed code is in \"3_trained_feature_vis.ipynb\""
   ]
  },
  {
   "cell_type": "code",
   "execution_count": null,
   "id": "f4de9a62",
   "metadata": {},
   "outputs": [],
   "source": [
    "%run ./3_trained_feature_vis.ipynb"
   ]
  },
  {
   "cell_type": "code",
   "execution_count": null,
   "id": "016b2859",
   "metadata": {},
   "outputs": [],
   "source": [
    "# usage case1: input custom sequence\n",
    "# seqinfo = SeqEncodeForPlot(\"custom\",\"REPNQAFGSGNNSYSGSNSGAAIGWGSASNAGSGSGFNGGFGSSMDSKSSGWGM\")\n",
    "\n",
    "# usage case2: by Uniprot Entry ID, \n",
    "#              sending to PONDR by VSL2 to get disorder regions which fit the length criteria (>=40)\n",
    "seqinfo = SeqEncodeForPlot(\"uniprot\", \"Q96DH6\")\n",
    "\n",
    "# plot features\n",
    "plot(seqinfo)"
   ]
  }
 ],
 "metadata": {
  "kernelspec": {
   "display_name": "Python 3 (ipykernel)",
   "language": "python",
   "name": "python3"
  },
  "language_info": {
   "codemirror_mode": {
    "name": "ipython",
    "version": 3
   },
   "file_extension": ".py",
   "mimetype": "text/x-python",
   "name": "python",
   "nbconvert_exporter": "python",
   "pygments_lexer": "ipython3",
   "version": "3.9.6"
  },
  "varInspector": {
   "cols": {
    "lenName": 16,
    "lenType": 16,
    "lenVar": 40
   },
   "kernels_config": {
    "python": {
     "delete_cmd_postfix": "",
     "delete_cmd_prefix": "del ",
     "library": "var_list.py",
     "varRefreshCmd": "print(var_dic_list())"
    },
    "r": {
     "delete_cmd_postfix": ") ",
     "delete_cmd_prefix": "rm(",
     "library": "var_list.r",
     "varRefreshCmd": "cat(var_dic_list()) "
    }
   },
   "types_to_exclude": [
    "module",
    "function",
    "builtin_function_or_method",
    "instance",
    "_Feature"
   ],
   "window_display": false
  }
 },
 "nbformat": 4,
 "nbformat_minor": 5
}
